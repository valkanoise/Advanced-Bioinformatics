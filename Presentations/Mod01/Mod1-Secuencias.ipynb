{
 "cells": [
  {
   "cell_type": "code",
   "execution_count": 18,
   "metadata": {},
   "outputs": [
    {
     "name": "stdout",
     "output_type": "stream",
     "text": [
      "AGTCTAGTAT\n"
     ]
    }
   ],
   "source": [
    "# Generate random sequences\n",
    "\n",
    "import random\n",
    "\n",
    "length=10\n",
    "\n",
    "bases = [\"A\",\"T\",\"C\",\"G\"]\n",
    "\n",
    "sequence = []\n",
    "for i in range(length):\n",
    "    base = random.choice(bases) \n",
    "    sequence.append(base)\n",
    "\n",
    "sequence=''.join(sequence)\n",
    "\n",
    "print(sequence)"
   ]
  },
  {
   "cell_type": "code",
   "execution_count": null,
   "metadata": {},
   "outputs": [
    {
     "name": "stdout",
     "output_type": "stream",
     "text": [
      "seq CATGTAGACTAG is 12 bases long\n",
      "reverse complement is CTAGTCTACATG\n",
      "protein translation is HVD*\n"
     ]
    }
   ],
   "source": [
    "# Biopython module\n",
    "\n",
    "from Bio.Seq import Seq\n",
    "\n",
    "# create a Seq object\n",
    "my_seq = Seq(\"CATGTAGACTAG\")\n",
    "\n",
    "# print out some details about it a\n",
    "print(\"seq %s is %i bases long\" % (my_seq, len(my_seq)))\n",
    "\n",
    "# Using some methods of the Seq class\n",
    "print(\"reverse complement is %s\" % my_seq.reverse_complement())\n",
    "print(\"protein translation is %s\" % my_seq.translate())"
   ]
  },
  {
   "cell_type": "code",
   "execution_count": 17,
   "metadata": {},
   "outputs": [
    {
     "name": "stdout",
     "output_type": "stream",
     "text": [
      "<class 'Bio.SeqRecord.SeqRecord'>\n",
      "ID: Genoma_CpI19_Refinada_v2\n",
      "Name: Genoma_CpI19_Refinada_v2\n",
      "Description: Genoma_CpI19_Refinada_v2\n",
      "Number of features: 0\n",
      "Seq('GTGTCGGAGGCTCCATCGACATGGAACGAGCGGTGGCAAGAAGTTACTAATGAG...CAC')\n",
      "Genoma_CpI19_Refinada_v2\n",
      "Genoma_CpI19_Refinada_v2\n"
     ]
    }
   ],
   "source": [
    "# Lets open a fasta file and read it´s information\n",
    "\n",
    "from Bio import SeqIO\n",
    "\n",
    "record = SeqIO.read(\"sample.fasta\", \"fasta\")\n",
    "\n",
    "\n",
    "print(type(record))\n",
    "print(record)\n",
    "\n",
    "print(record.name)\n",
    "print(record.id)\n"
   ]
  },
  {
   "cell_type": "code",
   "execution_count": 2,
   "metadata": {},
   "outputs": [
    {
     "name": "stdout",
     "output_type": "stream",
     "text": [
      "<_io.TextIOWrapper encoding='UTF-8'>\n",
      "CHS3_BROFI\n"
     ]
    }
   ],
   "source": [
    "# How to get information from databases a database like Swissprot\n",
    "# 1st we get the info from the database and store it in the handle variable as a text wrapper\n",
    "# 2nd we open the downloaded info with the specific unwrapper, in this case Swissprot record\n",
    "\n",
    "from Bio import ExPASy\n",
    "from Bio import SwissProt\n",
    "\n",
    "with ExPASy.get_sprot_raw(\"O23729\") as handle:\n",
    "    record = SwissProt.read(handle)\n",
    "\n",
    "print(handle)\n",
    "print(record.entry_name)"
   ]
  },
  {
   "cell_type": "code",
   "execution_count": 3,
   "metadata": {},
   "outputs": [
    {
     "name": "stdout",
     "output_type": "stream",
     "text": [
      "CHS3_BROFI\n"
     ]
    }
   ],
   "source": [
    "# Same as above without using with ... as ....\n",
    "\n",
    "from Bio import ExPASy\n",
    "from Bio import SwissProt\n",
    "\n",
    "handle = ExPASy.get_sprot_raw(\"O23729\")\n",
    "record = SwissProt.read(handle)\n",
    "print(record.entry_name)"
   ]
  },
  {
   "cell_type": "code",
   "execution_count": null,
   "metadata": {},
   "outputs": [],
   "source": []
  }
 ],
 "metadata": {
  "kernelspec": {
   "display_name": "Python 3",
   "language": "python",
   "name": "python3"
  },
  "language_info": {
   "codemirror_mode": {
    "name": "ipython",
    "version": 3
   },
   "file_extension": ".py",
   "mimetype": "text/x-python",
   "name": "python",
   "nbconvert_exporter": "python",
   "pygments_lexer": "ipython3",
   "version": "3.11.4"
  },
  "orig_nbformat": 4
 },
 "nbformat": 4,
 "nbformat_minor": 2
}
